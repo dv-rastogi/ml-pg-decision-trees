{
 "cells": [
  {
   "cell_type": "code",
   "execution_count": 12,
   "source": [
    "import pandas as pd\n",
    "import matplotlib.pyplot as plt\n",
    "import numpy as np"
   ],
   "outputs": [],
   "metadata": {}
  },
  {
   "cell_type": "code",
   "execution_count": 2,
   "source": [
    "india_df = pd.read_csv('covid_19_india.csv')\n",
    "vaccine_df = pd.read_csv('covid_vaccine_statewise.csv')"
   ],
   "outputs": [],
   "metadata": {}
  },
  {
   "cell_type": "markdown",
   "source": [
    "## Preprocessing\n",
    "* Convert date to datetime object\n",
    "* Convert `-` values to `0` for unrecorded ConfirmedIndianNational & ConfirmedForeignNational\n",
    "* Remove `*` from certain state names"
   ],
   "metadata": {}
  },
  {
   "cell_type": "code",
   "execution_count": 3,
   "source": [
    "print('Original dtypes')\n",
    "india_df.dtypes"
   ],
   "outputs": [
    {
     "output_type": "stream",
     "name": "stdout",
     "text": [
      "Original dtypes\n"
     ]
    },
    {
     "output_type": "execute_result",
     "data": {
      "text/plain": [
       "Sno                          int64\n",
       "Date                        object\n",
       "Time                        object\n",
       "State/UnionTerritory        object\n",
       "ConfirmedIndianNational     object\n",
       "ConfirmedForeignNational    object\n",
       "Cured                        int64\n",
       "Deaths                       int64\n",
       "Confirmed                    int64\n",
       "dtype: object"
      ]
     },
     "metadata": {},
     "execution_count": 3
    }
   ],
   "metadata": {}
  },
  {
   "cell_type": "code",
   "execution_count": 4,
   "source": [
    "india_df['Date'] = pd.to_datetime(india_df['Date'], format='%Y-%m-%d')\n",
    "india_df['ConfirmedIndianNational'] = india_df['ConfirmedIndianNational'].apply(lambda x: 0 if x == '-' else int(x))\n",
    "india_df['ConfirmedForeignNational'] = india_df['ConfirmedForeignNational'].apply(lambda x: 0 if x == '-' else int(x))\n",
    "india_df['State/UnionTerritory'] = india_df['State/UnionTerritory'].apply(lambda x: x[:x.find('*')] if x.find('*') != -1 else x)"
   ],
   "outputs": [],
   "metadata": {}
  },
  {
   "cell_type": "markdown",
   "source": [
    "## 1.1"
   ],
   "metadata": {}
  },
  {
   "cell_type": "code",
   "execution_count": 5,
   "source": [
    "print('Modified dtypes w/ column names')\n",
    "india_df.dtypes"
   ],
   "outputs": [
    {
     "output_type": "stream",
     "name": "stdout",
     "text": [
      "Modified dtypes w/ column names\n"
     ]
    },
    {
     "output_type": "execute_result",
     "data": {
      "text/plain": [
       "Sno                                  int64\n",
       "Date                        datetime64[ns]\n",
       "Time                                object\n",
       "State/UnionTerritory                object\n",
       "ConfirmedIndianNational              int64\n",
       "ConfirmedForeignNational             int64\n",
       "Cured                                int64\n",
       "Deaths                               int64\n",
       "Confirmed                            int64\n",
       "dtype: object"
      ]
     },
     "metadata": {},
     "execution_count": 5
    }
   ],
   "metadata": {}
  },
  {
   "cell_type": "code",
   "execution_count": 6,
   "source": [
    "print('Unique values/ranges for categorical values')\n",
    "print('Unique states')\n",
    "print(india_df['State/UnionTerritory'].unique())\n",
    "print('Unique time values')\n",
    "print(india_df['Time'].unique())\n",
    "print('Date range')\n",
    "print(india_df['Date'].min(), 'to', india_df['Date'].max())"
   ],
   "outputs": [
    {
     "output_type": "stream",
     "name": "stdout",
     "text": [
      "Unique values/ranges for categorical values\n",
      "Unique states\n",
      "['Kerala' 'Telengana' 'Delhi' 'Rajasthan' 'Uttar Pradesh' 'Haryana'\n",
      " 'Ladakh' 'Tamil Nadu' 'Karnataka' 'Maharashtra' 'Punjab'\n",
      " 'Jammu and Kashmir' 'Andhra Pradesh' 'Uttarakhand' 'Odisha' 'Puducherry'\n",
      " 'West Bengal' 'Chhattisgarh' 'Chandigarh' 'Gujarat' 'Himachal Pradesh'\n",
      " 'Madhya Pradesh' 'Bihar' 'Manipur' 'Mizoram'\n",
      " 'Andaman and Nicobar Islands' 'Goa' 'Unassigned' 'Assam' 'Jharkhand'\n",
      " 'Arunachal Pradesh' 'Tripura' 'Nagaland' 'Meghalaya'\n",
      " 'Dadra and Nagar Haveli and Daman and Diu'\n",
      " 'Cases being reassigned to states' 'Sikkim' 'Daman & Diu' 'Lakshadweep'\n",
      " 'Telangana' 'Dadra and Nagar Haveli' 'Himanchal Pradesh' 'Karanataka']\n",
      "Unique time values\n",
      "['6:00 PM' '10:00 AM' '7:30 PM' '9:30 PM' '8:30 PM' '5:00 PM' '8:00 AM']\n",
      "Date range\n",
      "2020-01-30 00:00:00 to 2021-08-11 00:00:00\n"
     ]
    }
   ],
   "metadata": {}
  },
  {
   "cell_type": "code",
   "execution_count": 7,
   "source": [
    "print('Ranges for numerical/continuous columns')\n",
    "india_df.describe().loc[['min', 'max']]"
   ],
   "outputs": [
    {
     "output_type": "stream",
     "name": "stdout",
     "text": [
      "Ranges for numerical/continuous columns\n"
     ]
    },
    {
     "output_type": "execute_result",
     "data": {
      "text/html": [
       "<div>\n",
       "<style scoped>\n",
       "    .dataframe tbody tr th:only-of-type {\n",
       "        vertical-align: middle;\n",
       "    }\n",
       "\n",
       "    .dataframe tbody tr th {\n",
       "        vertical-align: top;\n",
       "    }\n",
       "\n",
       "    .dataframe thead th {\n",
       "        text-align: right;\n",
       "    }\n",
       "</style>\n",
       "<table border=\"1\" class=\"dataframe\">\n",
       "  <thead>\n",
       "    <tr style=\"text-align: right;\">\n",
       "      <th></th>\n",
       "      <th>Sno</th>\n",
       "      <th>ConfirmedIndianNational</th>\n",
       "      <th>ConfirmedForeignNational</th>\n",
       "      <th>Cured</th>\n",
       "      <th>Deaths</th>\n",
       "      <th>Confirmed</th>\n",
       "    </tr>\n",
       "  </thead>\n",
       "  <tbody>\n",
       "    <tr>\n",
       "      <th>min</th>\n",
       "      <td>1.0</td>\n",
       "      <td>0.0</td>\n",
       "      <td>0.0</td>\n",
       "      <td>0.0</td>\n",
       "      <td>0.0</td>\n",
       "      <td>0.0</td>\n",
       "    </tr>\n",
       "    <tr>\n",
       "      <th>max</th>\n",
       "      <td>18110.0</td>\n",
       "      <td>177.0</td>\n",
       "      <td>14.0</td>\n",
       "      <td>6159676.0</td>\n",
       "      <td>134201.0</td>\n",
       "      <td>6363442.0</td>\n",
       "    </tr>\n",
       "  </tbody>\n",
       "</table>\n",
       "</div>"
      ],
      "text/plain": [
       "         Sno  ConfirmedIndianNational  ConfirmedForeignNational      Cured  \\\n",
       "min      1.0                      0.0                       0.0        0.0   \n",
       "max  18110.0                    177.0                      14.0  6159676.0   \n",
       "\n",
       "       Deaths  Confirmed  \n",
       "min       0.0        0.0  \n",
       "max  134201.0  6363442.0  "
      ]
     },
     "metadata": {},
     "execution_count": 7
    }
   ],
   "metadata": {}
  },
  {
   "cell_type": "markdown",
   "source": [
    "## 1.2\n",
    "* Grouping data month wise and plotting Cured/Deaths/Confirmed."
   ],
   "metadata": {}
  },
  {
   "cell_type": "code",
   "execution_count": 18,
   "source": [
    "# group by months for x ticks\n",
    "month_criteria = india_df['Date'].dt.to_period(\"M\")\n",
    "x_months = list(map(str, month_criteria.unique()))\n",
    "\n",
    "# group by date, to show total at each date\n",
    "date_criteria = india_df['Date'].dt.to_period(\"D\")\n",
    "date_grouped_df = india_df.groupby(date_criteria)[['Cured', 'Deaths', 'Confirmed']].sum()\n",
    "dates = list(map(str, date_grouped_df.index))\n",
    "\n",
    "# calculate spacing for x ticks\n",
    "x_months_spacing = (np.arange(len(x_months)) * len(dates)) // len(x_months)\n",
    "\n",
    "plt.plot(dates, date_grouped_df.Cured, label='Cured')\n",
    "plt.plot(dates, date_grouped_df.Deaths, label='Deaths')\n",
    "plt.plot(dates, date_grouped_df.Confirmed, label='Confirmed')\n",
    "\n",
    "plt.xticks(x_months_spacing, x_months, rotation=90)\n",
    "plt.xlabel('Months')\n",
    "plt.ylabel('Cases')\n",
    "plt.title('Cured/Deaths/Confirmed vs Months')\n",
    "plt.legend()\n",
    "plt.show()"
   ],
   "outputs": [
    {
     "output_type": "display_data",
     "data": {
      "image/png": "[encoded data removed]",
      "text/plain": [
       "<Figure size 432x288 with 1 Axes>"
      ]
     },
     "metadata": {
      "needs_background": "light"
     }
    }
   ],
   "metadata": {}
  },
  {
   "cell_type": "markdown",
   "source": [
    "## 1.3"
   ],
   "metadata": {}
  },
  {
   "cell_type": "markdown",
   "source": [],
   "metadata": {}
  }
 ],
 "metadata": {
  "orig_nbformat": 4,
  "language_info": {
   "name": "python",
   "version": "3.8.10",
   "mimetype": "text/x-python",
   "codemirror_mode": {
    "name": "ipython",
    "version": 3
   },
   "pygments_lexer": "ipython3",
   "nbconvert_exporter": "python",
   "file_extension": ".py"
  },
  "kernelspec": {
   "name": "python3",
   "display_name": "Python 3.8.10 64-bit"
  },
  "interpreter": {
   "hash": "31f2aee4e71d21fbe5cf8b01ff0e069b9275f58929596ceb00d14d90e3e16cd6"
  }
 },
 "nbformat": 4,
 "nbformat_minor": 2
}