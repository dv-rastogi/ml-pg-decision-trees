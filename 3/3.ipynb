{
 "cells": [
  {
   "cell_type": "code",
   "execution_count": 31,
   "source": [
    "import pandas as pd\n",
    "import numpy as np\n",
    "from sklearn.tree import DecisionTreeClassifier\n",
    "from sklearn import metrics\n",
    "import matplotlib.pyplot as plt\n",
    "from mpl_toolkits.mplot3d import Axes3D\n",
    "from tqdm import tqdm"
   ],
   "outputs": [],
   "metadata": {}
  },
  {
   "cell_type": "code",
   "execution_count": 32,
   "source": [
    "df = pd.read_csv('dataset_3.csv')"
   ],
   "outputs": [],
   "metadata": {}
  },
  {
   "cell_type": "markdown",
   "source": [
    "## Preprocessing and Analysis"
   ],
   "metadata": {}
  },
  {
   "cell_type": "code",
   "execution_count": 33,
   "source": [
    "df.drop(['No'], axis=1, inplace=True)"
   ],
   "outputs": [],
   "metadata": {}
  },
  {
   "cell_type": "code",
   "execution_count": 34,
   "source": [
    "df.head()"
   ],
   "outputs": [
    {
     "output_type": "execute_result",
     "data": {
      "text/html": [
       "<div>\n",
       "<style scoped>\n",
       "    .dataframe tbody tr th:only-of-type {\n",
       "        vertical-align: middle;\n",
       "    }\n",
       "\n",
       "    .dataframe tbody tr th {\n",
       "        vertical-align: top;\n",
       "    }\n",
       "\n",
       "    .dataframe thead th {\n",
       "        text-align: right;\n",
       "    }\n",
       "</style>\n",
       "<table border=\"1\" class=\"dataframe\">\n",
       "  <thead>\n",
       "    <tr style=\"text-align: right;\">\n",
       "      <th></th>\n",
       "      <th>year</th>\n",
       "      <th>month</th>\n",
       "      <th>day</th>\n",
       "      <th>hour</th>\n",
       "      <th>A</th>\n",
       "      <th>B</th>\n",
       "      <th>C</th>\n",
       "      <th>D</th>\n",
       "      <th>E</th>\n",
       "      <th>F</th>\n",
       "      <th>G</th>\n",
       "      <th>H</th>\n",
       "    </tr>\n",
       "  </thead>\n",
       "  <tbody>\n",
       "    <tr>\n",
       "      <th>0</th>\n",
       "      <td>2010</td>\n",
       "      <td>1</td>\n",
       "      <td>1</td>\n",
       "      <td>0</td>\n",
       "      <td>NaN</td>\n",
       "      <td>-21</td>\n",
       "      <td>-11.0</td>\n",
       "      <td>1021.0</td>\n",
       "      <td>NW</td>\n",
       "      <td>1.79</td>\n",
       "      <td>0</td>\n",
       "      <td>0</td>\n",
       "    </tr>\n",
       "    <tr>\n",
       "      <th>1</th>\n",
       "      <td>2010</td>\n",
       "      <td>1</td>\n",
       "      <td>1</td>\n",
       "      <td>1</td>\n",
       "      <td>NaN</td>\n",
       "      <td>-21</td>\n",
       "      <td>-12.0</td>\n",
       "      <td>1020.0</td>\n",
       "      <td>NW</td>\n",
       "      <td>4.92</td>\n",
       "      <td>0</td>\n",
       "      <td>0</td>\n",
       "    </tr>\n",
       "    <tr>\n",
       "      <th>2</th>\n",
       "      <td>2010</td>\n",
       "      <td>1</td>\n",
       "      <td>1</td>\n",
       "      <td>2</td>\n",
       "      <td>NaN</td>\n",
       "      <td>-21</td>\n",
       "      <td>-11.0</td>\n",
       "      <td>1019.0</td>\n",
       "      <td>NW</td>\n",
       "      <td>6.71</td>\n",
       "      <td>0</td>\n",
       "      <td>0</td>\n",
       "    </tr>\n",
       "    <tr>\n",
       "      <th>3</th>\n",
       "      <td>2010</td>\n",
       "      <td>1</td>\n",
       "      <td>1</td>\n",
       "      <td>3</td>\n",
       "      <td>NaN</td>\n",
       "      <td>-21</td>\n",
       "      <td>-14.0</td>\n",
       "      <td>1019.0</td>\n",
       "      <td>NW</td>\n",
       "      <td>9.84</td>\n",
       "      <td>0</td>\n",
       "      <td>0</td>\n",
       "    </tr>\n",
       "    <tr>\n",
       "      <th>4</th>\n",
       "      <td>2010</td>\n",
       "      <td>1</td>\n",
       "      <td>1</td>\n",
       "      <td>4</td>\n",
       "      <td>NaN</td>\n",
       "      <td>-20</td>\n",
       "      <td>-12.0</td>\n",
       "      <td>1018.0</td>\n",
       "      <td>NW</td>\n",
       "      <td>12.97</td>\n",
       "      <td>0</td>\n",
       "      <td>0</td>\n",
       "    </tr>\n",
       "  </tbody>\n",
       "</table>\n",
       "</div>"
      ],
      "text/plain": [
       "   year  month  day  hour   A   B     C       D   E      F  G  H\n",
       "0  2010      1    1     0 NaN -21 -11.0  1021.0  NW   1.79  0  0\n",
       "1  2010      1    1     1 NaN -21 -12.0  1020.0  NW   4.92  0  0\n",
       "2  2010      1    1     2 NaN -21 -11.0  1019.0  NW   6.71  0  0\n",
       "3  2010      1    1     3 NaN -21 -14.0  1019.0  NW   9.84  0  0\n",
       "4  2010      1    1     4 NaN -20 -12.0  1018.0  NW  12.97  0  0"
      ]
     },
     "metadata": {},
     "execution_count": 34
    }
   ],
   "metadata": {}
  },
  {
   "cell_type": "code",
   "execution_count": 35,
   "source": [
    "df.dtypes"
   ],
   "outputs": [
    {
     "output_type": "execute_result",
     "data": {
      "text/plain": [
       "year       int64\n",
       "month      int64\n",
       "day        int64\n",
       "hour       int64\n",
       "A        float64\n",
       "B          int64\n",
       "C        float64\n",
       "D        float64\n",
       "E         object\n",
       "F        float64\n",
       "G          int64\n",
       "H          int64\n",
       "dtype: object"
      ]
     },
     "metadata": {},
     "execution_count": 35
    }
   ],
   "metadata": {}
  },
  {
   "cell_type": "code",
   "execution_count": 36,
   "source": [
    "# checking for null values\n",
    "df.isna().any()"
   ],
   "outputs": [
    {
     "output_type": "execute_result",
     "data": {
      "text/plain": [
       "year     False\n",
       "month    False\n",
       "day      False\n",
       "hour     False\n",
       "A         True\n",
       "B        False\n",
       "C        False\n",
       "D        False\n",
       "E        False\n",
       "F        False\n",
       "G        False\n",
       "H        False\n",
       "dtype: bool"
      ]
     },
     "metadata": {},
     "execution_count": 36
    }
   ],
   "metadata": {}
  },
  {
   "cell_type": "code",
   "execution_count": 37,
   "source": [
    "df.A.describe()"
   ],
   "outputs": [
    {
     "output_type": "execute_result",
     "data": {
      "text/plain": [
       "count    41757.000000\n",
       "mean        98.613215\n",
       "std         92.050387\n",
       "min          0.000000\n",
       "25%         29.000000\n",
       "50%         72.000000\n",
       "75%        137.000000\n",
       "max        994.000000\n",
       "Name: A, dtype: float64"
      ]
     },
     "metadata": {},
     "execution_count": 37
    }
   ],
   "metadata": {}
  },
  {
   "cell_type": "code",
   "execution_count": 38,
   "source": [
    "# sampling missing values from gaussian\n",
    "A_stats = df.A[df.A.notnull()].describe()[['mean', 'std']]\n",
    "A_null = df.loc[df.A.isnull(), 'A']\n",
    "for i in range(len(A_null)):\n",
    "    sample = np.random.normal(A_stats['mean'], A_stats['std'])\n",
    "    while sample < 0:\n",
    "        sample = np.random.normal(A_stats['mean'], A_stats['std'])\n",
    "    A_null[A_null.index[i]] = sample\n",
    "df.loc[df.A.isnull(), 'A'] = A_null"
   ],
   "outputs": [],
   "metadata": {}
  },
  {
   "cell_type": "code",
   "execution_count": 39,
   "source": [
    "df.describe()"
   ],
   "outputs": [
    {
     "output_type": "execute_result",
     "data": {
      "text/html": [
       "<div>\n",
       "<style scoped>\n",
       "    .dataframe tbody tr th:only-of-type {\n",
       "        vertical-align: middle;\n",
       "    }\n",
       "\n",
       "    .dataframe tbody tr th {\n",
       "        vertical-align: top;\n",
       "    }\n",
       "\n",
       "    .dataframe thead th {\n",
       "        text-align: right;\n",
       "    }\n",
       "</style>\n",
       "<table border=\"1\" class=\"dataframe\">\n",
       "  <thead>\n",
       "    <tr style=\"text-align: right;\">\n",
       "      <th></th>\n",
       "      <th>year</th>\n",
       "      <th>month</th>\n",
       "      <th>day</th>\n",
       "      <th>hour</th>\n",
       "      <th>A</th>\n",
       "      <th>B</th>\n",
       "      <th>C</th>\n",
       "      <th>D</th>\n",
       "      <th>F</th>\n",
       "      <th>G</th>\n",
       "      <th>H</th>\n",
       "    </tr>\n",
       "  </thead>\n",
       "  <tbody>\n",
       "    <tr>\n",
       "      <th>count</th>\n",
       "      <td>43824.000000</td>\n",
       "      <td>43824.000000</td>\n",
       "      <td>43824.000000</td>\n",
       "      <td>43824.000000</td>\n",
       "      <td>43824.000000</td>\n",
       "      <td>43824.000000</td>\n",
       "      <td>43824.000000</td>\n",
       "      <td>43824.000000</td>\n",
       "      <td>43824.000000</td>\n",
       "      <td>43824.000000</td>\n",
       "      <td>43824.000000</td>\n",
       "    </tr>\n",
       "    <tr>\n",
       "      <th>mean</th>\n",
       "      <td>2012.000000</td>\n",
       "      <td>6.523549</td>\n",
       "      <td>15.727820</td>\n",
       "      <td>11.500000</td>\n",
       "      <td>99.848621</td>\n",
       "      <td>1.817246</td>\n",
       "      <td>12.448521</td>\n",
       "      <td>1016.447654</td>\n",
       "      <td>23.889140</td>\n",
       "      <td>0.052734</td>\n",
       "      <td>0.194916</td>\n",
       "    </tr>\n",
       "    <tr>\n",
       "      <th>std</th>\n",
       "      <td>1.413842</td>\n",
       "      <td>3.448572</td>\n",
       "      <td>8.799425</td>\n",
       "      <td>6.922266</td>\n",
       "      <td>91.433372</td>\n",
       "      <td>14.433440</td>\n",
       "      <td>12.198613</td>\n",
       "      <td>10.268698</td>\n",
       "      <td>50.010635</td>\n",
       "      <td>0.760375</td>\n",
       "      <td>1.415867</td>\n",
       "    </tr>\n",
       "    <tr>\n",
       "      <th>min</th>\n",
       "      <td>2010.000000</td>\n",
       "      <td>1.000000</td>\n",
       "      <td>1.000000</td>\n",
       "      <td>0.000000</td>\n",
       "      <td>0.000000</td>\n",
       "      <td>-40.000000</td>\n",
       "      <td>-19.000000</td>\n",
       "      <td>991.000000</td>\n",
       "      <td>0.450000</td>\n",
       "      <td>0.000000</td>\n",
       "      <td>0.000000</td>\n",
       "    </tr>\n",
       "    <tr>\n",
       "      <th>25%</th>\n",
       "      <td>2011.000000</td>\n",
       "      <td>4.000000</td>\n",
       "      <td>8.000000</td>\n",
       "      <td>5.750000</td>\n",
       "      <td>30.000000</td>\n",
       "      <td>-10.000000</td>\n",
       "      <td>2.000000</td>\n",
       "      <td>1008.000000</td>\n",
       "      <td>1.790000</td>\n",
       "      <td>0.000000</td>\n",
       "      <td>0.000000</td>\n",
       "    </tr>\n",
       "    <tr>\n",
       "      <th>50%</th>\n",
       "      <td>2012.000000</td>\n",
       "      <td>7.000000</td>\n",
       "      <td>16.000000</td>\n",
       "      <td>11.500000</td>\n",
       "      <td>75.000000</td>\n",
       "      <td>2.000000</td>\n",
       "      <td>14.000000</td>\n",
       "      <td>1016.000000</td>\n",
       "      <td>5.370000</td>\n",
       "      <td>0.000000</td>\n",
       "      <td>0.000000</td>\n",
       "    </tr>\n",
       "    <tr>\n",
       "      <th>75%</th>\n",
       "      <td>2013.000000</td>\n",
       "      <td>10.000000</td>\n",
       "      <td>23.000000</td>\n",
       "      <td>17.250000</td>\n",
       "      <td>140.000000</td>\n",
       "      <td>15.000000</td>\n",
       "      <td>23.000000</td>\n",
       "      <td>1025.000000</td>\n",
       "      <td>21.910000</td>\n",
       "      <td>0.000000</td>\n",
       "      <td>0.000000</td>\n",
       "    </tr>\n",
       "    <tr>\n",
       "      <th>max</th>\n",
       "      <td>2014.000000</td>\n",
       "      <td>12.000000</td>\n",
       "      <td>31.000000</td>\n",
       "      <td>23.000000</td>\n",
       "      <td>994.000000</td>\n",
       "      <td>28.000000</td>\n",
       "      <td>42.000000</td>\n",
       "      <td>1046.000000</td>\n",
       "      <td>585.600000</td>\n",
       "      <td>27.000000</td>\n",
       "      <td>36.000000</td>\n",
       "    </tr>\n",
       "  </tbody>\n",
       "</table>\n",
       "</div>"
      ],
      "text/plain": [
       "               year         month           day          hour             A  \\\n",
       "count  43824.000000  43824.000000  43824.000000  43824.000000  43824.000000   \n",
       "mean    2012.000000      6.523549     15.727820     11.500000     99.848621   \n",
       "std        1.413842      3.448572      8.799425      6.922266     91.433372   \n",
       "min     2010.000000      1.000000      1.000000      0.000000      0.000000   \n",
       "25%     2011.000000      4.000000      8.000000      5.750000     30.000000   \n",
       "50%     2012.000000      7.000000     16.000000     11.500000     75.000000   \n",
       "75%     2013.000000     10.000000     23.000000     17.250000    140.000000   \n",
       "max     2014.000000     12.000000     31.000000     23.000000    994.000000   \n",
       "\n",
       "                  B             C             D             F             G  \\\n",
       "count  43824.000000  43824.000000  43824.000000  43824.000000  43824.000000   \n",
       "mean       1.817246     12.448521   1016.447654     23.889140      0.052734   \n",
       "std       14.433440     12.198613     10.268698     50.010635      0.760375   \n",
       "min      -40.000000    -19.000000    991.000000      0.450000      0.000000   \n",
       "25%      -10.000000      2.000000   1008.000000      1.790000      0.000000   \n",
       "50%        2.000000     14.000000   1016.000000      5.370000      0.000000   \n",
       "75%       15.000000     23.000000   1025.000000     21.910000      0.000000   \n",
       "max       28.000000     42.000000   1046.000000    585.600000     27.000000   \n",
       "\n",
       "                  H  \n",
       "count  43824.000000  \n",
       "mean       0.194916  \n",
       "std        1.415867  \n",
       "min        0.000000  \n",
       "25%        0.000000  \n",
       "50%        0.000000  \n",
       "75%        0.000000  \n",
       "max       36.000000  "
      ]
     },
     "metadata": {},
     "execution_count": 39
    }
   ],
   "metadata": {}
  },
  {
   "cell_type": "code",
   "execution_count": 40,
   "source": [
    "# one hot encoding for E\n",
    "one_hot_E = pd.get_dummies(df.E)\n",
    "one_hot_E.set_axis(['E-' + name for name in one_hot_E.columns], axis=1, inplace=True)\n",
    "df.drop('E', axis=1, inplace=True)\n",
    "df = df.join(one_hot_E)"
   ],
   "outputs": [],
   "metadata": {}
  },
  {
   "cell_type": "markdown",
   "source": [
    "## Splitting into training and testing"
   ],
   "metadata": {}
  },
  {
   "cell_type": "code",
   "execution_count": 41,
   "source": [
    "def split(train_ratio, df, shuffle=True):\n",
    "    if shuffle:\n",
    "        df = df.sample(frac=1)\n",
    "    train_samples = int(train_ratio * len(df))\n",
    "    return df.iloc[:train_samples].copy().reset_index(drop=True), df.iloc[train_samples:].copy().reset_index(drop=True)"
   ],
   "outputs": [],
   "metadata": {}
  },
  {
   "cell_type": "code",
   "execution_count": 42,
   "source": [
    "df_train, df_test = split(0.7, df)"
   ],
   "outputs": [],
   "metadata": {}
  },
  {
   "cell_type": "code",
   "execution_count": 43,
   "source": [
    "df_train.head()"
   ],
   "outputs": [
    {
     "output_type": "execute_result",
     "data": {
      "text/html": [
       "<div>\n",
       "<style scoped>\n",
       "    .dataframe tbody tr th:only-of-type {\n",
       "        vertical-align: middle;\n",
       "    }\n",
       "\n",
       "    .dataframe tbody tr th {\n",
       "        vertical-align: top;\n",
       "    }\n",
       "\n",
       "    .dataframe thead th {\n",
       "        text-align: right;\n",
       "    }\n",
       "</style>\n",
       "<table border=\"1\" class=\"dataframe\">\n",
       "  <thead>\n",
       "    <tr style=\"text-align: right;\">\n",
       "      <th></th>\n",
       "      <th>year</th>\n",
       "      <th>month</th>\n",
       "      <th>day</th>\n",
       "      <th>hour</th>\n",
       "      <th>A</th>\n",
       "      <th>B</th>\n",
       "      <th>C</th>\n",
       "      <th>D</th>\n",
       "      <th>F</th>\n",
       "      <th>G</th>\n",
       "      <th>H</th>\n",
       "      <th>E-NE</th>\n",
       "      <th>E-NW</th>\n",
       "      <th>E-SE</th>\n",
       "      <th>E-cv</th>\n",
       "    </tr>\n",
       "  </thead>\n",
       "  <tbody>\n",
       "    <tr>\n",
       "      <th>0</th>\n",
       "      <td>2013</td>\n",
       "      <td>8</td>\n",
       "      <td>26</td>\n",
       "      <td>1</td>\n",
       "      <td>53.0</td>\n",
       "      <td>18</td>\n",
       "      <td>23.0</td>\n",
       "      <td>1004.0</td>\n",
       "      <td>1.79</td>\n",
       "      <td>0</td>\n",
       "      <td>0</td>\n",
       "      <td>1</td>\n",
       "      <td>0</td>\n",
       "      <td>0</td>\n",
       "      <td>0</td>\n",
       "    </tr>\n",
       "    <tr>\n",
       "      <th>1</th>\n",
       "      <td>2014</td>\n",
       "      <td>12</td>\n",
       "      <td>15</td>\n",
       "      <td>20</td>\n",
       "      <td>18.0</td>\n",
       "      <td>-21</td>\n",
       "      <td>-3.0</td>\n",
       "      <td>1034.0</td>\n",
       "      <td>152.44</td>\n",
       "      <td>0</td>\n",
       "      <td>0</td>\n",
       "      <td>0</td>\n",
       "      <td>1</td>\n",
       "      <td>0</td>\n",
       "      <td>0</td>\n",
       "    </tr>\n",
       "    <tr>\n",
       "      <th>2</th>\n",
       "      <td>2012</td>\n",
       "      <td>11</td>\n",
       "      <td>27</td>\n",
       "      <td>2</td>\n",
       "      <td>129.0</td>\n",
       "      <td>-10</td>\n",
       "      <td>-3.0</td>\n",
       "      <td>1017.0</td>\n",
       "      <td>1.79</td>\n",
       "      <td>0</td>\n",
       "      <td>0</td>\n",
       "      <td>1</td>\n",
       "      <td>0</td>\n",
       "      <td>0</td>\n",
       "      <td>0</td>\n",
       "    </tr>\n",
       "    <tr>\n",
       "      <th>3</th>\n",
       "      <td>2012</td>\n",
       "      <td>7</td>\n",
       "      <td>11</td>\n",
       "      <td>0</td>\n",
       "      <td>25.0</td>\n",
       "      <td>21</td>\n",
       "      <td>23.0</td>\n",
       "      <td>995.0</td>\n",
       "      <td>1.79</td>\n",
       "      <td>0</td>\n",
       "      <td>0</td>\n",
       "      <td>0</td>\n",
       "      <td>1</td>\n",
       "      <td>0</td>\n",
       "      <td>0</td>\n",
       "    </tr>\n",
       "    <tr>\n",
       "      <th>4</th>\n",
       "      <td>2012</td>\n",
       "      <td>11</td>\n",
       "      <td>12</td>\n",
       "      <td>5</td>\n",
       "      <td>13.0</td>\n",
       "      <td>-13</td>\n",
       "      <td>2.0</td>\n",
       "      <td>1019.0</td>\n",
       "      <td>299.92</td>\n",
       "      <td>0</td>\n",
       "      <td>0</td>\n",
       "      <td>0</td>\n",
       "      <td>1</td>\n",
       "      <td>0</td>\n",
       "      <td>0</td>\n",
       "    </tr>\n",
       "  </tbody>\n",
       "</table>\n",
       "</div>"
      ],
      "text/plain": [
       "   year  month  day  hour      A   B     C       D       F  G  H  E-NE  E-NW  \\\n",
       "0  2013      8   26     1   53.0  18  23.0  1004.0    1.79  0  0     1     0   \n",
       "1  2014     12   15    20   18.0 -21  -3.0  1034.0  152.44  0  0     0     1   \n",
       "2  2012     11   27     2  129.0 -10  -3.0  1017.0    1.79  0  0     1     0   \n",
       "3  2012      7   11     0   25.0  21  23.0   995.0    1.79  0  0     0     1   \n",
       "4  2012     11   12     5   13.0 -13   2.0  1019.0  299.92  0  0     0     1   \n",
       "\n",
       "   E-SE  E-cv  \n",
       "0     0     0  \n",
       "1     0     0  \n",
       "2     0     0  \n",
       "3     0     0  \n",
       "4     0     0  "
      ]
     },
     "metadata": {},
     "execution_count": 43
    }
   ],
   "metadata": {}
  },
  {
   "cell_type": "code",
   "execution_count": 44,
   "source": [
    "df_test.head()"
   ],
   "outputs": [
    {
     "output_type": "execute_result",
     "data": {
      "text/html": [
       "<div>\n",
       "<style scoped>\n",
       "    .dataframe tbody tr th:only-of-type {\n",
       "        vertical-align: middle;\n",
       "    }\n",
       "\n",
       "    .dataframe tbody tr th {\n",
       "        vertical-align: top;\n",
       "    }\n",
       "\n",
       "    .dataframe thead th {\n",
       "        text-align: right;\n",
       "    }\n",
       "</style>\n",
       "<table border=\"1\" class=\"dataframe\">\n",
       "  <thead>\n",
       "    <tr style=\"text-align: right;\">\n",
       "      <th></th>\n",
       "      <th>year</th>\n",
       "      <th>month</th>\n",
       "      <th>day</th>\n",
       "      <th>hour</th>\n",
       "      <th>A</th>\n",
       "      <th>B</th>\n",
       "      <th>C</th>\n",
       "      <th>D</th>\n",
       "      <th>F</th>\n",
       "      <th>G</th>\n",
       "      <th>H</th>\n",
       "      <th>E-NE</th>\n",
       "      <th>E-NW</th>\n",
       "      <th>E-SE</th>\n",
       "      <th>E-cv</th>\n",
       "    </tr>\n",
       "  </thead>\n",
       "  <tbody>\n",
       "    <tr>\n",
       "      <th>0</th>\n",
       "      <td>2014</td>\n",
       "      <td>7</td>\n",
       "      <td>25</td>\n",
       "      <td>22</td>\n",
       "      <td>69.0</td>\n",
       "      <td>15</td>\n",
       "      <td>27.0</td>\n",
       "      <td>1006.0</td>\n",
       "      <td>35.32</td>\n",
       "      <td>0</td>\n",
       "      <td>0</td>\n",
       "      <td>0</td>\n",
       "      <td>0</td>\n",
       "      <td>1</td>\n",
       "      <td>0</td>\n",
       "    </tr>\n",
       "    <tr>\n",
       "      <th>1</th>\n",
       "      <td>2012</td>\n",
       "      <td>10</td>\n",
       "      <td>14</td>\n",
       "      <td>23</td>\n",
       "      <td>109.0</td>\n",
       "      <td>7</td>\n",
       "      <td>14.0</td>\n",
       "      <td>1020.0</td>\n",
       "      <td>64.08</td>\n",
       "      <td>0</td>\n",
       "      <td>0</td>\n",
       "      <td>0</td>\n",
       "      <td>0</td>\n",
       "      <td>0</td>\n",
       "      <td>1</td>\n",
       "    </tr>\n",
       "    <tr>\n",
       "      <th>2</th>\n",
       "      <td>2010</td>\n",
       "      <td>1</td>\n",
       "      <td>7</td>\n",
       "      <td>11</td>\n",
       "      <td>42.0</td>\n",
       "      <td>-20</td>\n",
       "      <td>-10.0</td>\n",
       "      <td>1036.0</td>\n",
       "      <td>16.09</td>\n",
       "      <td>0</td>\n",
       "      <td>0</td>\n",
       "      <td>0</td>\n",
       "      <td>1</td>\n",
       "      <td>0</td>\n",
       "      <td>0</td>\n",
       "    </tr>\n",
       "    <tr>\n",
       "      <th>3</th>\n",
       "      <td>2013</td>\n",
       "      <td>8</td>\n",
       "      <td>11</td>\n",
       "      <td>20</td>\n",
       "      <td>62.0</td>\n",
       "      <td>22</td>\n",
       "      <td>25.0</td>\n",
       "      <td>1006.0</td>\n",
       "      <td>3.13</td>\n",
       "      <td>0</td>\n",
       "      <td>1</td>\n",
       "      <td>0</td>\n",
       "      <td>0</td>\n",
       "      <td>1</td>\n",
       "      <td>0</td>\n",
       "    </tr>\n",
       "    <tr>\n",
       "      <th>4</th>\n",
       "      <td>2011</td>\n",
       "      <td>11</td>\n",
       "      <td>23</td>\n",
       "      <td>2</td>\n",
       "      <td>9.0</td>\n",
       "      <td>-16</td>\n",
       "      <td>0.0</td>\n",
       "      <td>1030.0</td>\n",
       "      <td>169.87</td>\n",
       "      <td>0</td>\n",
       "      <td>0</td>\n",
       "      <td>0</td>\n",
       "      <td>1</td>\n",
       "      <td>0</td>\n",
       "      <td>0</td>\n",
       "    </tr>\n",
       "  </tbody>\n",
       "</table>\n",
       "</div>"
      ],
      "text/plain": [
       "   year  month  day  hour      A   B     C       D       F  G  H  E-NE  E-NW  \\\n",
       "0  2014      7   25    22   69.0  15  27.0  1006.0   35.32  0  0     0     0   \n",
       "1  2012     10   14    23  109.0   7  14.0  1020.0   64.08  0  0     0     0   \n",
       "2  2010      1    7    11   42.0 -20 -10.0  1036.0   16.09  0  0     0     1   \n",
       "3  2013      8   11    20   62.0  22  25.0  1006.0    3.13  0  1     0     0   \n",
       "4  2011     11   23     2    9.0 -16   0.0  1030.0  169.87  0  0     0     1   \n",
       "\n",
       "   E-SE  E-cv  \n",
       "0     1     0  \n",
       "1     0     1  \n",
       "2     0     0  \n",
       "3     1     0  \n",
       "4     0     0  "
      ]
     },
     "metadata": {},
     "execution_count": 44
    }
   ],
   "metadata": {}
  },
  {
   "cell_type": "code",
   "execution_count": 45,
   "source": [
    "feature_cols = ['year', 'hour', 'A', 'B', 'C', 'D', 'F', 'G', 'H', 'E-NE', 'E-NW', 'E-SE', 'E-cv']\n",
    "X_train = df_train[feature_cols]\n",
    "Y_train = df_train.month\n",
    "X_test = df_test[feature_cols]\n",
    "Y_test = df_test.month"
   ],
   "outputs": [],
   "metadata": {}
  },
  {
   "cell_type": "markdown",
   "source": [
    "## Choosing criteria\n",
    "* `entropy` performs slightly better over `gini`."
   ],
   "metadata": {}
  },
  {
   "cell_type": "code",
   "execution_count": 46,
   "source": [
    "clf_1 = DecisionTreeClassifier()\n",
    "clf_1 = clf_1.fit(X_train, Y_train)\n",
    "Y_pred_1 = clf_1.predict(X_test)\n",
    "print(f'Accuracy using gini: {metrics.accuracy_score(Y_test, Y_pred_1)}')"
   ],
   "outputs": [
    {
     "output_type": "stream",
     "name": "stdout",
     "text": [
      "Accuracy using gini: 0.6824612108305446\n"
     ]
    }
   ],
   "metadata": {}
  },
  {
   "cell_type": "code",
   "execution_count": 47,
   "source": [
    "clf_2 = DecisionTreeClassifier(criterion='entropy')\n",
    "clf_2 = clf_2.fit(X_train, Y_train)\n",
    "Y_pred_2 = clf_2.predict(X_test)\n",
    "print(f'Accuracy using entropy: {metrics.accuracy_score(Y_test, Y_pred_2)}')"
   ],
   "outputs": [
    {
     "output_type": "stream",
     "name": "stdout",
     "text": [
      "Accuracy using entropy: 0.6852753270459385\n"
     ]
    }
   ],
   "metadata": {}
  },
  {
   "cell_type": "markdown",
   "source": [
    "## Max Depths\n",
    "* Plotting training and testing acc. vs max depth using entropy as criteria.\n",
    "* Within the given max depths, depth of 30 gives best accuracy both on training and testing."
   ],
   "metadata": {}
  },
  {
   "cell_type": "code",
   "execution_count": 48,
   "source": [
    "# moving forward with entropy\n",
    "mx_depths = [2, 4, 8, 10, 12, 30]\n",
    "test_acc = []\n",
    "train_acc = []\n",
    "for d in mx_depths:\n",
    "    clf = DecisionTreeClassifier(criterion='entropy', max_depth=d)\n",
    "    clf = clf.fit(X_train, Y_train)\n",
    "    train_acc.append(metrics.accuracy_score(Y_train, clf.predict(X_train)))\n",
    "    test_acc.append(metrics.accuracy_score(Y_test, clf.predict(X_test)))\n",
    "plt.plot(mx_depths, train_acc, label='training accuracy')\n",
    "plt.plot(mx_depths, test_acc, label='testing accuracy')\n",
    "plt.xlabel('max depths')\n",
    "plt.ylabel('accuracy')\n",
    "plt.title('acc. vs max-depth')\n",
    "plt.legend()\n",
    "plt.show()"
   ],
   "outputs": [
    {
     "output_type": "display_data",
     "data": {
      "image/png": "[encoded data removed]",
      "text/plain": [
       "<Figure size 432x288 with 1 Axes>"
      ]
     },
     "metadata": {
      "needs_background": "light"
     }
    }
   ],
   "metadata": {}
  },
  {
   "cell_type": "markdown",
   "source": [
    "## Ensemble"
   ],
   "metadata": {}
  },
  {
   "cell_type": "code",
   "execution_count": 49,
   "source": [
    "class DT_Ensemble:\n",
    "    def __init__(self, num, criteria, mx_depth):\n",
    "        self.trees = []\n",
    "        self.num_trees = int(num)\n",
    "        self.criteria = criteria\n",
    "        self.mx_depth = mx_depth\n",
    "        for _ in range(self.num_trees):\n",
    "            self.trees.append(DecisionTreeClassifier(criterion=self.criteria, max_depth=self.mx_depth))\n",
    "    def train(self, ratio, df):\n",
    "        global feature_cols\n",
    "        for i in range(self.num_trees):\n",
    "            sub_df_train, _ = split(ratio, df)\n",
    "            sub_x_train = sub_df_train[feature_cols]\n",
    "            sub_y_train = sub_df_train.month\n",
    "            self.trees[i] = self.trees[i].fit(sub_x_train, sub_y_train)\n",
    "    def mode(l):\n",
    "        d = {0: 0}\n",
    "        mode_ = 0\n",
    "        for x in l:\n",
    "            d[x] = (d[x] + 1) if (x in d) else 1\n",
    "            if d[x] > d[mode_]:\n",
    "                mode_ = x\n",
    "        return mode_\n",
    "    def predict(self, x):\n",
    "        outputs = []\n",
    "        for i in range(self.num_trees):\n",
    "            outputs.append(self.trees[i].predict(x))\n",
    "        outputs = np.array(outputs)\n",
    "        majority = []\n",
    "        for i in range(len(x)):\n",
    "            majority.append(DT_Ensemble.mode(outputs[:,i]))\n",
    "        return np.array(majority)"
   ],
   "outputs": [],
   "metadata": {}
  },
  {
   "cell_type": "code",
   "execution_count": 50,
   "source": [
    "dt_ensemble = DT_Ensemble(150, 'entropy', 4)\n",
    "dt_ensemble.train(0.4, df_train)\n",
    "Y_ensemble_pred = dt_ensemble.predict(X_test)\n",
    "print(f'Ensemble testing accuracy for max_depth 4: {metrics.accuracy_score(Y_test, Y_ensemble_pred)}')"
   ],
   "outputs": [
    {
     "output_type": "stream",
     "name": "stdout",
     "text": [
      "Ensemble testing accuracy for max_depth 4: 0.402342561606328\n"
     ]
    }
   ],
   "metadata": {}
  },
  {
   "cell_type": "markdown",
   "source": [
    "## Ensemble w/ varying hyperparameters\n",
    "* for a particular `max depth`, ensemble sizes aren't a distinguishing factor beyond a certain threshold\n",
    "* as `max depth` increases, performance over both test and train set increases, although test set's increasing gradient seems to gradually decrease, which occurs due to overfitting on the training data"
   ],
   "metadata": {}
  },
  {
   "cell_type": "code",
   "execution_count": 51,
   "source": [
    "NUM_TREES_L = [1, 5, 15, 50, 100, 150, 200, 250]\n",
    "MAX_DEPTHS_L = [5, 7, 13, 15, 25, 30]\n",
    "train_acc_ens = {}\n",
    "test_acc_ens = {}\n",
    "for n in tqdm(NUM_TREES_L):\n",
    "    for d in MAX_DEPTHS_L:\n",
    "        dte = DT_Ensemble(n, 'entropy', d)\n",
    "        dte.train(0.4, df_train)\n",
    "        train_acc_ens[(n, d)] = metrics.accuracy_score(Y_train, dte.predict(X_train))\n",
    "        test_acc_ens[(n, d)] = metrics.accuracy_score(Y_test, dte.predict(X_test))"
   ],
   "outputs": [
    {
     "output_type": "stream",
     "name": "stderr",
     "text": [
      "100%|██████████| 8/8 [06:40<00:00, 50.10s/it]\n"
     ]
    }
   ],
   "metadata": {}
  },
  {
   "cell_type": "code",
   "execution_count": 53,
   "source": [
    "x_tr = []\n",
    "y_tr = []\n",
    "z_tr = []\n",
    "x_te = []\n",
    "y_te = []\n",
    "z_te = []\n",
    "for (n, d) in train_acc_ens:\n",
    "    x_tr.append(n)\n",
    "    y_tr.append(d)\n",
    "    z_tr.append(train_acc_ens[(n, d)])\n",
    "for (n, d) in test_acc_ens:\n",
    "    x_te.append(n)\n",
    "    y_te.append(d)\n",
    "    z_te.append(test_acc_ens[(n, d)])\n",
    "\n",
    "ax = Axes3D(plt.figure())\n",
    "ax.scatter(x_tr, y_tr, z_tr, label='Training acc.')\n",
    "ax.scatter(x_te, y_te, z_te, label='Testing acc.')\n",
    "ax.set_xlabel('ensemble size')\n",
    "ax.set_ylabel('max depth')\n",
    "ax.set_zlabel('accuracy')\n",
    "ax.legend()\n",
    "plt.title('Accuracy vs ensemble-size & max-depth')\n",
    "plt.show()"
   ],
   "outputs": [
    {
     "output_type": "display_data",
     "data": {
      "image/png": "[encoded data removed]",
      "text/plain": [
       "<Figure size 432x288 with 1 Axes>"
      ]
     },
     "metadata": {
      "needs_background": "light"
     }
    }
   ],
   "metadata": {}
  }
 ],
 "metadata": {
  "orig_nbformat": 4,
  "language_info": {
   "name": "python",
   "version": "3.8.10",
   "mimetype": "text/x-python",
   "codemirror_mode": {
    "name": "ipython",
    "version": 3
   },
   "pygments_lexer": "ipython3",
   "nbconvert_exporter": "python",
   "file_extension": ".py"
  },
  "kernelspec": {
   "name": "python3",
   "display_name": "Python 3.8.10 64-bit"
  },
  "interpreter": {
   "hash": "31f2aee4e71d21fbe5cf8b01ff0e069b9275f58929596ceb00d14d90e3e16cd6"
  }
 },
 "nbformat": 4,
 "nbformat_minor": 2
}